{
 "cells": [
  {
   "cell_type": "code",
   "execution_count": 27,
   "metadata": {
    "scrolled": false
   },
   "outputs": [
    {
     "data": {
      "text/plain": [
       "Reading file ../data/shapes/cube100k.xyz...\t\n"
      ]
     },
     "execution_count": 27,
     "metadata": {},
     "output_type": "execute_result"
    },
    {
     "data": {
      "text/plain": [
       "File ../data/shapes/cube100k.xyz read in 0.14044785499573 seconds.\t\n"
      ]
     },
     "execution_count": 27,
     "metadata": {},
     "output_type": "execute_result"
    },
    {
     "data": {
      "image/png": "[encoded data removed]",
      "text/plain": [
       "Console does not support images"
      ]
     },
     "metadata": {
      "image/png": {
       "height": 66,
       "width": 198
      }
     },
     "output_type": "display_data"
    },
    {
     "data": {
      "text/plain": [
       "done\t\n"
      ]
     },
     "execution_count": 27,
     "metadata": {},
     "output_type": "execute_result"
    }
   ],
   "source": [
    "require 'torch'\n",
    "require 'math'\n",
    "require 'image'\n",
    "\n",
    "local base_path = '../'\n",
    "local shape_path = 'data/shapes/'\n",
    "local shape_name = 'cube100k'\n",
    "local out_path = 'data/out/'\n",
    "local vis_path = 'data/vis/'\n",
    "\n",
    "-- all of these points are on a plane far away from edges, so their hough transforms should have a single maximum at the origin\n",
    "-- except point 23043 which is almost exactly on a corner\n",
    "local point_inds = torch.FloatTensor({694,2240,675,2026,96438,3115,23043});\n",
    "local num_of_samples = 1000\n",
    "local hough_vis_max = 10\n",
    "\n",
    "local Mesh = require('mesh')\n",
    "\n",
    "local xyz_filename = base_path .. shape_path .. shape_name .. '.xyz'\n",
    "local v = Mesh.readXYZ(xyz_filename)\n",
    "\n",
    "-- print(v[{{},{1}}]:min())\n",
    "-- print(v[{{},{1}}]:max())\n",
    "-- print(v[{{},{2}}]:min())\n",
    "-- print(v[{{},{2}}]:max())\n",
    "-- print(v[{{},{3}}]:min())\n",
    "-- print(v[{{},{3}}]:max())\n",
    "\n",
    "local hough_save_name = base_path .. out_path .. shape_name .. '_hough_100.txt'\n",
    "local hough = torch.load(hough_save_name, 'ascii')\n",
    "\n",
    "local hough = hough:view(hough:size(1),math.sqrt(hough:size(2)),math.sqrt(hough:size(2)))\n",
    "\n",
    "-- print(torch.div(hough,num_of_samples):max())\n",
    "-- print(torch.div(hough,num_of_samples):min())\n",
    "\n",
    "point_inds_array = {};\n",
    "for i=1,point_inds:nElement() do\n",
    "    image.save(\n",
    "        string.format('%s%s%s_hough_%d_%.2f_%.2f_%.2f.png',base_path,vis_path,shape_name,point_inds[i],v[{point_inds[i],1}],v[{point_inds[i],2}],v[{point_inds[i],3}]),\n",
    "        torch.clamp(torch.div(hough[{point_inds[i],{},{}}],hough_vis_max),0,1))\n",
    "    \n",
    "--     print('----')\n",
    "--     print(hough[{point_inds[i],{},{}}]:min())\n",
    "--     print(hough[{point_inds[i],{},{}}]:max())\n",
    "--     print(torch.div(hough[{point_inds[i],{},{}}],num_of_samples):min())\n",
    "--     print(torch.div(hough[{point_inds[i],{},{}}],num_of_samples):max())\n",
    "    point_inds_array[i] = point_inds[i]\n",
    "end\n",
    "\n",
    "itorch.image(torch.div(hough:index(1,point_inds:long()),hough_vis_max),{min=0,max=1})\n",
    "-- itorch.image(torch.div(hough:index(1,torch.range(1,100):long()),hough_vis_max),{min=0,max=1})\n",
    "\n",
    "\n",
    "print('done')\n"
   ]
  }
 ],
 "metadata": {
  "kernelspec": {
   "display_name": "iTorch",
   "language": "lua",
   "name": "itorch"
  },
  "language_info": {
   "name": "lua",
   "version": "5.1"
  }
 },
 "nbformat": 4,
 "nbformat_minor": 2
}
